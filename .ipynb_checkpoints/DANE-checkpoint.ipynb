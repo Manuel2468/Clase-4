{
 "cells": [
  {
   "cell_type": "code",
   "execution_count": 1,
   "metadata": {},
   "outputs": [],
   "source": [
    "from urllib.request import Request, urlopen\n",
    "from pyquery import PyQuery "
   ]
  },
  {
   "cell_type": "code",
   "execution_count": null,
   "metadata": {},
   "outputs": [],
   "source": [
    "def indicadoresEconomicos1():\n",
    "    req = Request('https://www.dane.gov.co/index.php/indicadores-economicos', None, {'User-agent' : 'Mozilla/5.0 (Windows; U; Windows NT 5.1; de; rv:1.9.1.5) Gecko/20091102 Firefox/3.5.5'})\n",
    "    content = urlopen(req).read()\n",
    "    pq = PyQuery(content)\n",
    "    \n",
    "    print (pq)"
   ]
  },
  {
   "cell_type": "code",
   "execution_count": null,
   "metadata": {},
   "outputs": [],
   "source": [
    "indicadoresEconomicos1()"
   ]
  },
  {
   "cell_type": "code",
   "execution_count": null,
   "metadata": {},
   "outputs": [],
   "source": [
    "def indicadoresEconomicos2():\n",
    "    req = Request('https://www.dane.gov.co/index.php/indicadores-economicos', None, {'User-agent' : 'Mozilla/5.0 (Windows; U; Windows NT 5.1; de; rv:1.9.1.5) Gecko/20091102 Firefox/3.5.5'})\n",
    "    content = urlopen(req).read()\n",
    "    pq = PyQuery(content)\n",
    "    \n",
    "    trm = [i.text() for i in pq('table').eq(1)('h1').items()][0].replace('$','').replace('.','').replace(',','.') \n",
    "    \n",
    "    print(trm)"
   ]
  },
  {
   "cell_type": "code",
   "execution_count": null,
   "metadata": {},
   "outputs": [],
   "source": [
    "indicadoresEconomicos2()"
   ]
  },
  {
   "cell_type": "code",
   "execution_count": null,
   "metadata": {},
   "outputs": [],
   "source": [
    "def indicadoresEconomicos3():\n",
    "    req = Request('https://www.dane.gov.co/index.php/indicadores-economicos', None, {'User-agent' : 'Mozilla/5.0 (Windows; U; Windows NT 5.1; de; rv:1.9.1.5) Gecko/20091102 Firefox/3.5.5'})\n",
    "    content = urlopen(req).read()\n",
    "    pq = PyQuery(content)\n",
    "    \n",
    "    trm = [i.text() for i in pq('table').eq(1)('h1').items()][0].replace('$','').replace('.','').replace(',','.') \n",
    "    desempleo = [i.text() for i in pq('table').eq(4)('h1').items()][0]\n",
    "    \n",
    "    print(desempleo)"
   ]
  },
  {
   "cell_type": "code",
   "execution_count": null,
   "metadata": {},
   "outputs": [],
   "source": [
    "indicadoresEconomicos3()"
   ]
  },
  {
   "cell_type": "code",
   "execution_count": 2,
   "metadata": {},
   "outputs": [],
   "source": [
    "def indicadoresEconomicos():\n",
    "    req = Request('https://www.dane.gov.co/index.php/indicadores-economicos', None, {'User-agent' : 'Mozilla/5.0 (Windows; U; Windows NT 5.1; de; rv:1.9.1.5) Gecko/20091102 Firefox/3.5.5'})\n",
    "    content = urlopen(req).read()\n",
    "    pq = PyQuery(content)\n",
    "    \n",
    "    trm = [i.text() for i in pq('table').eq(1)('h1').items()][0].replace('$','').replace('.','').replace(',','.') \n",
    "    \n",
    "    return trm"
   ]
  },
  {
   "cell_type": "code",
   "execution_count": 3,
   "metadata": {},
   "outputs": [
    {
     "name": "stdout",
     "output_type": "stream",
     "text": [
      "3782.66\n"
     ]
    }
   ],
   "source": [
    "print(indicadoresEconomicos())"
   ]
  },
  {
   "cell_type": "code",
   "execution_count": null,
   "metadata": {},
   "outputs": [],
   "source": []
  }
 ],
 "metadata": {
  "kernelspec": {
   "display_name": "Python 3",
   "language": "python",
   "name": "python3"
  },
  "language_info": {
   "codemirror_mode": {
    "name": "ipython",
    "version": 3
   },
   "file_extension": ".py",
   "mimetype": "text/x-python",
   "name": "python",
   "nbconvert_exporter": "python",
   "pygments_lexer": "ipython3",
   "version": "3.8.3"
  }
 },
 "nbformat": 4,
 "nbformat_minor": 4
}
